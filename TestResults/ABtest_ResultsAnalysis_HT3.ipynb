{
 "cells": [
  {
   "cell_type": "code",
   "execution_count": 167,
   "id": "initial_id",
   "metadata": {
    "ExecuteTime": {
     "end_time": "2024-02-13T22:40:19.652520400Z",
     "start_time": "2024-02-13T22:40:19.462072800Z"
    }
   },
   "outputs": [],
   "source": [
    "import pandas as pd\n",
    "import numpy as np\n"
   ]
  },
  {
   "cell_type": "code",
   "execution_count": 168,
   "id": "6b9b6808de7fd27f",
   "metadata": {
    "ExecuteTime": {
     "end_time": "2024-02-13T22:40:19.776489700Z",
     "start_time": "2024-02-13T22:40:19.657180200Z"
    }
   },
   "outputs": [
    {
     "data": {
      "text/html": [
       "<div>\n",
       "<style scoped>\n",
       "    .dataframe tbody tr th:only-of-type {\n",
       "        vertical-align: middle;\n",
       "    }\n",
       "\n",
       "    .dataframe tbody tr th {\n",
       "        vertical-align: top;\n",
       "    }\n",
       "\n",
       "    .dataframe thead th {\n",
       "        text-align: right;\n",
       "    }\n",
       "</style>\n",
       "<table border=\"1\" class=\"dataframe\">\n",
       "  <thead>\n",
       "    <tr style=\"text-align: right;\">\n",
       "      <th></th>\n",
       "      <th>user_id</th>\n",
       "      <th>timestamp</th>\n",
       "      <th>test_group</th>\n",
       "      <th>conversion</th>\n",
       "    </tr>\n",
       "  </thead>\n",
       "  <tbody>\n",
       "    <tr>\n",
       "      <th>0</th>\n",
       "      <td>7f6833e6-1141-4f20-b4b2-f1e31019b1fd</td>\n",
       "      <td>2023-07-04 04:40:55.848109</td>\n",
       "      <td>a</td>\n",
       "      <td>0</td>\n",
       "    </tr>\n",
       "    <tr>\n",
       "      <th>1</th>\n",
       "      <td>e6a6e960-d3f3-4074-a516-ba1e609b211e</td>\n",
       "      <td>2023-07-06 00:26:45.486187</td>\n",
       "      <td>b</td>\n",
       "      <td>0</td>\n",
       "    </tr>\n",
       "    <tr>\n",
       "      <th>2</th>\n",
       "      <td>4d3fbfa5-6847-410a-bac2-477f01d5f400</td>\n",
       "      <td>2023-07-10 20:24:33.639464</td>\n",
       "      <td>b</td>\n",
       "      <td>0</td>\n",
       "    </tr>\n",
       "    <tr>\n",
       "      <th>3</th>\n",
       "      <td>361457d9-a044-48f7-981c-d67dc3861679</td>\n",
       "      <td>2023-07-20 07:04:49.957013</td>\n",
       "      <td>b</td>\n",
       "      <td>0</td>\n",
       "    </tr>\n",
       "    <tr>\n",
       "      <th>4</th>\n",
       "      <td>285cd63d-7d03-427f-a062-1fa2dd2e77d6</td>\n",
       "      <td>2023-07-19 23:27:50.116680</td>\n",
       "      <td>b</td>\n",
       "      <td>0</td>\n",
       "    </tr>\n",
       "  </tbody>\n",
       "</table>\n",
       "</div>"
      ],
      "text/plain": [
       "                                user_id                   timestamp test_group  conversion\n",
       "0  7f6833e6-1141-4f20-b4b2-f1e31019b1fd  2023-07-04 04:40:55.848109          a           0\n",
       "1  e6a6e960-d3f3-4074-a516-ba1e609b211e  2023-07-06 00:26:45.486187          b           0\n",
       "2  4d3fbfa5-6847-410a-bac2-477f01d5f400  2023-07-10 20:24:33.639464          b           0\n",
       "3  361457d9-a044-48f7-981c-d67dc3861679  2023-07-20 07:04:49.957013          b           0\n",
       "4  285cd63d-7d03-427f-a062-1fa2dd2e77d6  2023-07-19 23:27:50.116680          b           0"
      ]
     },
     "execution_count": 168,
     "metadata": {},
     "output_type": "execute_result"
    }
   ],
   "source": [
    "df=pd.read_csv(\"C:/Users/User/Documents/data/Product Analytics/ab_test_data.csv\")\n",
    "df.head()\n",
    "#df.tail()"
   ]
  },
  {
   "cell_type": "code",
   "execution_count": 169,
   "id": "52e36e6a0fe01442",
   "metadata": {
    "ExecuteTime": {
     "end_time": "2024-02-13T22:40:19.795773100Z",
     "start_time": "2024-02-13T22:40:19.767477200Z"
    }
   },
   "outputs": [
    {
     "name": "stdout",
     "output_type": "stream",
     "text": [
      "<class 'pandas.core.frame.DataFrame'>\n",
      "RangeIndex: 19998 entries, 0 to 19997\n",
      "Data columns (total 4 columns):\n",
      " #   Column      Non-Null Count  Dtype \n",
      "---  ------      --------------  ----- \n",
      " 0   user_id     19998 non-null  object\n",
      " 1   timestamp   19998 non-null  object\n",
      " 2   test_group  19998 non-null  object\n",
      " 3   conversion  19998 non-null  int64 \n",
      "dtypes: int64(1), object(3)\n",
      "memory usage: 625.1+ KB\n"
     ]
    }
   ],
   "source": [
    "df.info()\n"
   ]
  },
  {
   "cell_type": "code",
   "execution_count": 170,
   "id": "3a7e1536d2a817ac",
   "metadata": {
    "ExecuteTime": {
     "end_time": "2024-02-13T22:40:19.879946100Z",
     "start_time": "2024-02-13T22:40:19.785775300Z"
    }
   },
   "outputs": [
    {
     "name": "stdout",
     "output_type": "stream",
     "text": [
      "<class 'pandas.core.frame.DataFrame'>\n",
      "RangeIndex: 19998 entries, 0 to 19997\n",
      "Data columns (total 4 columns):\n",
      " #   Column      Non-Null Count  Dtype         \n",
      "---  ------      --------------  -----         \n",
      " 0   user_id     19998 non-null  object        \n",
      " 1   timestamp   19998 non-null  datetime64[ns]\n",
      " 2   test_group  19998 non-null  object        \n",
      " 3   conversion  19998 non-null  int64         \n",
      "dtypes: datetime64[ns](1), int64(1), object(2)\n",
      "memory usage: 625.1+ KB\n"
     ]
    }
   ],
   "source": [
    "df['timestamp']=pd.to_datetime(df['timestamp'])\n",
    "df.info()\n"
   ]
  },
  {
   "cell_type": "code",
   "execution_count": 171,
   "id": "7df37c2b72bfcf9b",
   "metadata": {
    "ExecuteTime": {
     "end_time": "2024-02-13T22:40:19.880948200Z",
     "start_time": "2024-02-13T22:40:19.822846200Z"
    }
   },
   "outputs": [
    {
     "data": {
      "text/html": [
       "<div>\n",
       "<style scoped>\n",
       "    .dataframe tbody tr th:only-of-type {\n",
       "        vertical-align: middle;\n",
       "    }\n",
       "\n",
       "    .dataframe tbody tr th {\n",
       "        vertical-align: top;\n",
       "    }\n",
       "\n",
       "    .dataframe thead th {\n",
       "        text-align: right;\n",
       "    }\n",
       "</style>\n",
       "<table border=\"1\" class=\"dataframe\">\n",
       "  <thead>\n",
       "    <tr style=\"text-align: right;\">\n",
       "      <th></th>\n",
       "      <th>user_id</th>\n",
       "      <th>timestamp</th>\n",
       "      <th>test_group</th>\n",
       "      <th>conversion</th>\n",
       "      <th>user_dupl</th>\n",
       "    </tr>\n",
       "  </thead>\n",
       "  <tbody>\n",
       "  </tbody>\n",
       "</table>\n",
       "</div>"
      ],
      "text/plain": [
       "Empty DataFrame\n",
       "Columns: [user_id, timestamp, test_group, conversion, user_dupl]\n",
       "Index: []"
      ]
     },
     "execution_count": 171,
     "metadata": {},
     "output_type": "execute_result"
    }
   ],
   "source": [
    "df['user_dupl']=df['user_id'].duplicated()\n",
    "test=df.loc[df['user_dupl']==True]\n",
    "test\n",
    "#df.info()"
   ]
  },
  {
   "cell_type": "code",
   "execution_count": 172,
   "id": "15f44b44148701e3",
   "metadata": {
    "ExecuteTime": {
     "end_time": "2024-02-13T22:40:19.971054700Z",
     "start_time": "2024-02-13T22:40:19.860266600Z"
    }
   },
   "outputs": [
    {
     "data": {
      "text/html": [
       "<div>\n",
       "<style scoped>\n",
       "    .dataframe tbody tr th:only-of-type {\n",
       "        vertical-align: middle;\n",
       "    }\n",
       "\n",
       "    .dataframe tbody tr th {\n",
       "        vertical-align: top;\n",
       "    }\n",
       "\n",
       "    .dataframe thead th {\n",
       "        text-align: right;\n",
       "    }\n",
       "</style>\n",
       "<table border=\"1\" class=\"dataframe\">\n",
       "  <thead>\n",
       "    <tr style=\"text-align: right;\">\n",
       "      <th></th>\n",
       "      <th>user_id</th>\n",
       "      <th>timestamp</th>\n",
       "      <th>test_group</th>\n",
       "      <th>conversion</th>\n",
       "      <th>user_dupl</th>\n",
       "    </tr>\n",
       "  </thead>\n",
       "  <tbody>\n",
       "  </tbody>\n",
       "</table>\n",
       "</div>"
      ],
      "text/plain": [
       "Empty DataFrame\n",
       "Columns: [user_id, timestamp, test_group, conversion, user_dupl]\n",
       "Index: []"
      ]
     },
     "execution_count": 172,
     "metadata": {},
     "output_type": "execute_result"
    }
   ],
   "source": [
    "test1=df.loc[df['conversion'].isna() ]\n",
    "test1"
   ]
  },
  {
   "cell_type": "markdown",
   "id": "14d36d72f54274b2",
   "metadata": {},
   "source": [
    "## 1. Зчитай дані з файлу та виведи інформацію про результати A/B тесту:"
   ]
  },
  {
   "cell_type": "code",
   "execution_count": 173,
   "id": "e1df8b2484c38ca6",
   "metadata": {
    "ExecuteTime": {
     "end_time": "2024-02-13T22:40:20.020716700Z",
     "start_time": "2024-02-13T22:40:19.952630100Z"
    }
   },
   "outputs": [
    {
     "name": "stdout",
     "output_type": "stream",
     "text": [
      "Number of users in group \"a\":  10013  and in group \"b\":  9985\n"
     ]
    }
   ],
   "source": [
    "# Кількість користувачів в групах A та B відповідно;\n",
    "\n",
    "users_a=df[df['test_group']=='a']['user_id'].count()\n",
    "users_b=df[df['test_group']=='b']['user_id'].count()\n",
    "\n",
    "print('Number of users in group \"a\": ', users_a, ' and in group \"b\": ', users_b )"
   ]
  },
  {
   "cell_type": "code",
   "execution_count": 174,
   "id": "57b83b8e983867f8",
   "metadata": {
    "ExecuteTime": {
     "end_time": "2024-02-13T22:43:24.170354600Z",
     "start_time": "2024-02-13T22:43:24.160580100Z"
    }
   },
   "outputs": [
    {
     "name": "stdout",
     "output_type": "stream",
     "text": [
      "Number of conversions in group \"a\":  611  and in group \"b\":  889\n"
     ]
    }
   ],
   "source": [
    "# Кількість конверсій в групах A та B відповідно\n",
    "\n",
    "group_a=df.loc[df['test_group']=='a']\n",
    "group_b=df.loc[df['test_group']=='b']\n",
    "\n",
    "conversions_a=group_a[group_a['conversion']==1]['conversion'].count()\n",
    "conversions_b=group_b[group_b['conversion']==1]['conversion'].count()\n",
    "\n",
    "print('Number of conversions in group \"a\": ', conversions_a, ' and in group \"b\": ', conversions_b )"
   ]
  },
  {
   "cell_type": "code",
   "execution_count": 175,
   "id": "9d350a46ab044e54",
   "metadata": {
    "ExecuteTime": {
     "end_time": "2024-02-13T22:40:20.283871500Z",
     "start_time": "2024-02-13T22:40:20.131115800Z"
    }
   },
   "outputs": [
    {
     "data": {
      "text/plain": [
       "889"
      ]
     },
     "execution_count": 175,
     "metadata": {},
     "output_type": "execute_result"
    }
   ],
   "source": [
    "# The same as above\n",
    "a=df[df[\"test_group\"] == \"a\"][\"conversion\"].sum()\n",
    "b=df[df[\"test_group\"] == \"b\"][\"conversion\"].sum()\n",
    "a\n",
    "b"
   ]
  },
  {
   "cell_type": "code",
   "execution_count": 176,
   "id": "7fdf3dde21d5f4e7",
   "metadata": {
    "ExecuteTime": {
     "end_time": "2024-02-13T22:40:20.307873400Z",
     "start_time": "2024-02-13T22:40:20.243314Z"
    }
   },
   "outputs": [
    {
     "name": "stdout",
     "output_type": "stream",
     "text": [
      "CR in group \"a\":  0.061  and in group \"b\":  0.089\n"
     ]
    }
   ],
   "source": [
    "# Рівень конверсії в групах A та B відповідно\n",
    "\n",
    "cr_a=round(conversions_a/users_a,3)\n",
    "cr_b=round(conversions_b/users_b,3)\n",
    "\n",
    "print('CR in group \"a\": ', cr_a, ' and in group \"b\": ', cr_b )"
   ]
  },
  {
   "cell_type": "code",
   "execution_count": 177,
   "id": "cbf8af1c25328c12",
   "metadata": {
    "ExecuteTime": {
     "end_time": "2024-02-13T22:40:20.365623300Z",
     "start_time": "2024-02-13T22:40:20.312704800Z"
    }
   },
   "outputs": [
    {
     "data": {
      "text/plain": [
       "0.06"
      ]
     },
     "execution_count": 177,
     "metadata": {},
     "output_type": "execute_result"
    }
   ],
   "source": [
    "# The same as above\n",
    "test_cr_a=round(a/users_a,2)\n",
    "test_cr_a"
   ]
  },
  {
   "cell_type": "code",
   "execution_count": 178,
   "id": "eec8856cfedc810d",
   "metadata": {
    "ExecuteTime": {
     "end_time": "2024-02-13T23:21:25.168013500Z",
     "start_time": "2024-02-13T23:21:25.156630600Z"
    }
   },
   "outputs": [],
   "source": [
    "# Дату початку та дату кінця тесту, а також тривалість тесту в днях\n",
    "\n",
    "# start_a=group_a['timestamp'].min()\n",
    "# end_a=group_a['timestamp'].max()\n",
    "\n",
    "# start_b=group_b['timestamp'].min()\n",
    "# end_b=group_b['timestamp'].max()"
   ]
  },
  {
   "cell_type": "code",
   "execution_count": 179,
   "id": "d8afdcd6bf79df8d",
   "metadata": {
    "ExecuteTime": {
     "end_time": "2024-02-13T22:52:26.077053100Z",
     "start_time": "2024-02-13T22:52:26.027061200Z"
    }
   },
   "outputs": [],
   "source": [
    "# Дату початку та дату кінця тесту, а також тривалість тесту в днях\n",
    "\n",
    "start_a=pd.to_datetime(df[df[\"test_group\"] == \"a\"]['timestamp']).dt.floor('S').min()\n",
    "end_a=pd.to_datetime(df[df[\"test_group\"] == \"a\"]['timestamp']).dt.floor('S').max()\n",
    "\n",
    "start_b=pd.to_datetime(df[df[\"test_group\"] == \"b\"]['timestamp']).dt.floor('S').min()\n",
    "end_b=pd.to_datetime(df[df[\"test_group\"] == \"b\"]['timestamp']).dt.floor('S').max()\n",
    "\n"
   ]
  },
  {
   "cell_type": "code",
   "execution_count": 180,
   "id": "ecc190ae521ead2",
   "metadata": {
    "ExecuteTime": {
     "end_time": "2024-02-13T22:52:28.242755100Z",
     "start_time": "2024-02-13T22:52:28.233061600Z"
    }
   },
   "outputs": [
    {
     "name": "stdout",
     "output_type": "stream",
     "text": [
      "Test duration in group \"a\":  21 days 23:55:05  and in group \"b\":  21 days 23:53:25\n"
     ]
    }
   ],
   "source": [
    "# тривалість тесту в днях\n",
    "test_duration_a=(end_a-start_a).as_unit('s', round_ok=True)\n",
    "test_duration_b=(end_b-start_b).as_unit('s', round_ok=True)\n",
    "print('Test duration in group \"a\": ', test_duration_a, ' and in group \"b\": ', test_duration_b )"
   ]
  },
  {
   "cell_type": "code",
   "execution_count": 181,
   "id": "7a1b0795e03fc05b",
   "metadata": {
    "ExecuteTime": {
     "end_time": "2024-02-13T22:52:32.768106300Z",
     "start_time": "2024-02-13T22:52:32.712912200Z"
    },
    "slideshow": {
     "slide_type": "slide"
    }
   },
   "outputs": [
    {
     "data": {
      "text/html": [
       "<div>\n",
       "<style scoped>\n",
       "    .dataframe tbody tr th:only-of-type {\n",
       "        vertical-align: middle;\n",
       "    }\n",
       "\n",
       "    .dataframe tbody tr th {\n",
       "        vertical-align: top;\n",
       "    }\n",
       "\n",
       "    .dataframe thead th {\n",
       "        text-align: right;\n",
       "    }\n",
       "</style>\n",
       "<table border=\"1\" class=\"dataframe\">\n",
       "  <thead>\n",
       "    <tr style=\"text-align: right;\">\n",
       "      <th></th>\n",
       "      <th>Test_group</th>\n",
       "      <th>N of Users</th>\n",
       "      <th>N of Conversions</th>\n",
       "      <th>CR</th>\n",
       "      <th>T_start</th>\n",
       "      <th>T_end</th>\n",
       "      <th>T_duration</th>\n",
       "    </tr>\n",
       "  </thead>\n",
       "  <tbody>\n",
       "    <tr>\n",
       "      <th>0</th>\n",
       "      <td>Control group</td>\n",
       "      <td>10013</td>\n",
       "      <td>611</td>\n",
       "      <td>0.061</td>\n",
       "      <td>2023-07-03 01:46:14</td>\n",
       "      <td>2023-07-25 01:41:19</td>\n",
       "      <td>21 days 23:55:05</td>\n",
       "    </tr>\n",
       "    <tr>\n",
       "      <th>1</th>\n",
       "      <td>Test group</td>\n",
       "      <td>9985</td>\n",
       "      <td>889</td>\n",
       "      <td>0.089</td>\n",
       "      <td>2023-07-03 01:42:34</td>\n",
       "      <td>2023-07-25 01:35:59</td>\n",
       "      <td>21 days 23:53:25</td>\n",
       "    </tr>\n",
       "  </tbody>\n",
       "</table>\n",
       "</div>"
      ],
      "text/plain": [
       "      Test_group  N of Users  N of Conversions     CR             T_start               T_end       T_duration\n",
       "0  Control group       10013               611  0.061 2023-07-03 01:46:14 2023-07-25 01:41:19 21 days 23:55:05\n",
       "1     Test group        9985               889  0.089 2023-07-03 01:42:34 2023-07-25 01:35:59 21 days 23:53:25"
      ]
     },
     "execution_count": 181,
     "metadata": {},
     "output_type": "execute_result"
    }
   ],
   "source": [
    "test_analysis=pd.DataFrame(\n",
    "    data={\n",
    "        'Test_group': ['Control group','Test group'],\n",
    "        'N of Users': [users_a,users_b],\n",
    "        'N of Conversions': [conversions_a,conversions_b],\n",
    "        'CR': [cr_a,cr_b],\n",
    "        'T_start': [start_a,start_b],\n",
    "        'T_end': [end_a, end_b],\n",
    "        'T_duration': [test_duration_a, test_duration_b]\n",
    "        \n",
    "    }\n",
    ")\n",
    "test_analysis"
   ]
  },
  {
   "cell_type": "code",
   "execution_count": 182,
   "id": "af36457e",
   "metadata": {},
   "outputs": [],
   "source": [
    "#test_analysis.style.background_gradient(axis=None, low=0.75, high=1.0).to_excel(\"C:/Users/User/Documents/data/Product Analytics/ABtesting.xlsx\")\n",
    "\n",
    "test_analysis.to_clipboard()"
   ]
  },
  {
   "cell_type": "code",
   "execution_count": 183,
   "id": "75ae36ec0e9727de",
   "metadata": {
    "ExecuteTime": {
     "end_time": "2024-02-13T22:52:59.218360800Z",
     "start_time": "2024-02-13T22:52:59.179385700Z"
    }
   },
   "outputs": [
    {
     "name": "stdout",
     "output_type": "stream",
     "text": [
      "<class 'pandas.core.frame.DataFrame'>\n",
      "RangeIndex: 2 entries, 0 to 1\n",
      "Data columns (total 7 columns):\n",
      " #   Column            Non-Null Count  Dtype          \n",
      "---  ------            --------------  -----          \n",
      " 0   Test_group        2 non-null      object         \n",
      " 1   N of Users        2 non-null      int64          \n",
      " 2   N of Conversions  2 non-null      int64          \n",
      " 3   CR                2 non-null      float64        \n",
      " 4   T_start           2 non-null      datetime64[ns] \n",
      " 5   T_end             2 non-null      datetime64[ns] \n",
      " 6   T_duration        2 non-null      timedelta64[ns]\n",
      "dtypes: datetime64[ns](2), float64(1), int64(2), object(1), timedelta64[ns](1)\n",
      "memory usage: 244.0+ bytes\n"
     ]
    }
   ],
   "source": [
    "test_analysis.info()\n"
   ]
  },
  {
   "cell_type": "markdown",
   "id": "b95c8f3e0a8cfbbf",
   "metadata": {},
   "source": [
    "## 2. Обери статистичний критерій для тестування гіпотез та обрахуй значення статистики та p-value. \n",
    "Перевір, чи можемо ми відхили нульову гіпотезу. Не забудь уточнити, який критерій використовуєш"
   ]
  },
  {
   "cell_type": "code",
   "execution_count": 184,
   "id": "acf932a4d60f82ac",
   "metadata": {
    "ExecuteTime": {
     "end_time": "2024-02-14T00:04:46.823571Z",
     "start_time": "2024-02-14T00:04:46.699180400Z"
    }
   },
   "outputs": [
    {
     "name": "stdout",
     "output_type": "stream",
     "text": [
      "<class 'pandas.core.frame.DataFrame'>\n",
      "RangeIndex: 19998 entries, 0 to 19997\n",
      "Data columns (total 5 columns):\n",
      " #   Column      Non-Null Count  Dtype         \n",
      "---  ------      --------------  -----         \n",
      " 0   user_id     19998 non-null  object        \n",
      " 1   timestamp   19998 non-null  datetime64[ns]\n",
      " 2   test_group  19998 non-null  object        \n",
      " 3   conversion  19998 non-null  int64         \n",
      " 4   user_dupl   19998 non-null  bool          \n",
      "dtypes: bool(1), datetime64[ns](1), int64(1), object(2)\n",
      "memory usage: 644.6+ KB\n"
     ]
    }
   ],
   "source": [
    "df.info()"
   ]
  },
  {
   "cell_type": "code",
   "execution_count": 185,
   "id": "f27b2b26df3b41c8",
   "metadata": {
    "ExecuteTime": {
     "end_time": "2024-02-13T22:56:31.907532100Z",
     "start_time": "2024-02-13T22:56:31.846716400Z"
    }
   },
   "outputs": [
    {
     "data": {
      "text/html": [
       "<div>\n",
       "<style scoped>\n",
       "    .dataframe tbody tr th:only-of-type {\n",
       "        vertical-align: middle;\n",
       "    }\n",
       "\n",
       "    .dataframe tbody tr th {\n",
       "        vertical-align: top;\n",
       "    }\n",
       "\n",
       "    .dataframe thead th {\n",
       "        text-align: right;\n",
       "    }\n",
       "</style>\n",
       "<table border=\"1\" class=\"dataframe\">\n",
       "  <thead>\n",
       "    <tr style=\"text-align: right;\">\n",
       "      <th></th>\n",
       "      <th>count</th>\n",
       "      <th>mean</th>\n",
       "      <th>std</th>\n",
       "      <th>min</th>\n",
       "      <th>25%</th>\n",
       "      <th>50%</th>\n",
       "      <th>75%</th>\n",
       "      <th>max</th>\n",
       "    </tr>\n",
       "    <tr>\n",
       "      <th>test_group</th>\n",
       "      <th></th>\n",
       "      <th></th>\n",
       "      <th></th>\n",
       "      <th></th>\n",
       "      <th></th>\n",
       "      <th></th>\n",
       "      <th></th>\n",
       "      <th></th>\n",
       "    </tr>\n",
       "  </thead>\n",
       "  <tbody>\n",
       "    <tr>\n",
       "      <th>a</th>\n",
       "      <td>10013.0</td>\n",
       "      <td>0.061021</td>\n",
       "      <td>0.239380</td>\n",
       "      <td>0.0</td>\n",
       "      <td>0.0</td>\n",
       "      <td>0.0</td>\n",
       "      <td>0.0</td>\n",
       "      <td>1.0</td>\n",
       "    </tr>\n",
       "    <tr>\n",
       "      <th>b</th>\n",
       "      <td>9985.0</td>\n",
       "      <td>0.089034</td>\n",
       "      <td>0.284806</td>\n",
       "      <td>0.0</td>\n",
       "      <td>0.0</td>\n",
       "      <td>0.0</td>\n",
       "      <td>0.0</td>\n",
       "      <td>1.0</td>\n",
       "    </tr>\n",
       "  </tbody>\n",
       "</table>\n",
       "</div>"
      ],
      "text/plain": [
       "              count      mean       std  min  25%  50%  75%  max\n",
       "test_group                                                      \n",
       "a           10013.0  0.061021  0.239380  0.0  0.0  0.0  0.0  1.0\n",
       "b            9985.0  0.089034  0.284806  0.0  0.0  0.0  0.0  1.0"
      ]
     },
     "execution_count": 185,
     "metadata": {},
     "output_type": "execute_result"
    }
   ],
   "source": [
    "df.groupby('test_group')['conversion'].describe()\n"
   ]
  },
  {
   "cell_type": "code",
   "execution_count": null,
   "id": "7df5b6c0fbd00a51",
   "metadata": {
    "scrolled": true
   },
   "outputs": [],
   "source": []
  },
  {
   "cell_type": "markdown",
   "id": "217dc896d7c254a0",
   "metadata": {},
   "source": [
    "The result of A/B test is a CR from installation to weekly subscription. The population is known, it's CR is 5.8. \n",
    "According to Central limit theorem, the distribution of CR values is normal. Two groups which participated in the test cover the entire population for the test period. The audience was split 50:50 randomly, no criteria was applied. The data are boolean, not continuous.    \n",
    "\n",
    "Therefore, T-test was selected to check statistical significancy of the difference between two independent samples.\n",
    "**Null hypothesis is** : there is no statistycaly significant difference for CR between two groups\n",
    "**Alternative** hypothesis is: the difference is significant and we should accept the screen with discount label"
   ]
  },
  {
   "cell_type": "code",
   "execution_count": 186,
   "id": "1b3f1293818f919e",
   "metadata": {
    "ExecuteTime": {
     "end_time": "2024-02-13T22:40:20.691811900Z",
     "start_time": "2024-02-13T22:40:20.579172500Z"
    }
   },
   "outputs": [],
   "source": [
    "from scipy import stats  # пакет в середині пакету\n",
    "\n",
    "alpha = 0.05  # задаємо рівень значимості"
   ]
  },
  {
   "cell_type": "code",
   "execution_count": 187,
   "id": "643df2317fae1a9",
   "metadata": {
    "ExecuteTime": {
     "end_time": "2024-02-14T00:12:50.452918700Z",
     "start_time": "2024-02-14T00:12:50.413936400Z"
    },
    "slideshow": {
     "slide_type": "slide"
    }
   },
   "outputs": [
    {
     "name": "stdout",
     "output_type": "stream",
     "text": [
      "t-statistic: -7.53, p-value: 0.0\n",
      "The difference is statistically significant, Null Hypothesis is rejected.\n"
     ]
    }
   ],
   "source": [
    "statistic, pvalue = stats.ttest_ind( \n",
    "    df[df[\"test_group\"] == \"a\"][\"conversion\"],  \n",
    "    df[df[\"test_group\"] == \"b\"][\"conversion\"],  \n",
    "    alternative=\"less\",  \n",
    ")\n",
    "\n",
    "print(f\"t-statistic: {round(statistic, 2)}, p-value: {round(pvalue, 2)}\")\n",
    "\n",
    "if pvalue < alpha:\n",
    "    print(\"The difference is statistically significant, Null Hypothesis is rejected.\")\n",
    "else:\n",
    "    print(\"The difference is insignificant, Null Hypothesis cannot rejected.\")"
   ]
  },
  {
   "cell_type": "markdown",
   "id": "6891cdc660038cd7",
   "metadata": {},
   "source": [
    "## 3. Побудуй візуалізацію для порівняння середніх значень у групах з 95% довірчими інтервалами"
   ]
  },
  {
   "cell_type": "code",
   "execution_count": 188,
   "id": "547691a5",
   "metadata": {},
   "outputs": [
    {
     "data": {
      "text/plain": [
       "0    Control group\n",
       "1       Test group\n",
       "2       Test group\n",
       "3       Test group\n",
       "4       Test group\n",
       "Name: test_group, dtype: object"
      ]
     },
     "execution_count": 188,
     "metadata": {},
     "output_type": "execute_result"
    }
   ],
   "source": [
    "df[\"test_group\"]=df[\"test_group\"].where(df[\"test_group\"]==\"a\", other=\"Test group\")\n",
    "df[\"test_group\"]=df[\"test_group\"].where(df[\"test_group\"]==\"Test group\", other=\"Control group\")\n",
    "df[\"test_group\"].head()"
   ]
  },
  {
   "cell_type": "code",
   "execution_count": 163,
   "id": "5577f463",
   "metadata": {},
   "outputs": [
    {
     "data": {
      "text/plain": [
       "0    Control group\n",
       "1       Test group\n",
       "2       Test group\n",
       "3       Test group\n",
       "4       Test group\n",
       "Name: test_group, dtype: object"
      ]
     },
     "execution_count": 163,
     "metadata": {},
     "output_type": "execute_result"
    }
   ],
   "source": [
    "df[\"test_group\"].head()"
   ]
  },
  {
   "cell_type": "code",
   "execution_count": 164,
   "id": "911fc169ce033ccd",
   "metadata": {
    "ExecuteTime": {
     "end_time": "2024-02-14T00:38:01.332400800Z",
     "start_time": "2024-02-14T00:38:00.911080Z"
    },
    "slideshow": {
     "slide_type": "slide"
    }
   },
   "outputs": [
    {
     "data": {
      "image/png": "[encoded data removed]",
      "text/plain": [
       "<Figure size 800x600 with 1 Axes>"
      ]
     },
     "metadata": {},
     "output_type": "display_data"
    }
   ],
   "source": [
    "import matplotlib.pyplot as plt\n",
    "import seaborn as sns\n",
    "\n",
    "sns.set_style('darkgrid')\n",
    "\n",
    "plt.figure(figsize=(8, 6))\n",
    "sns.barplot(\n",
    "    x=df[\"test_group\"], y=df[\"conversion\"], errorbar=(\"ci\", 95)\n",
    ")  # Confidence Intervals\n",
    "\n",
    "plt.title(\"A/B Test Results\")\n",
    "plt.xlabel(\"Group\")\n",
    "plt.ylabel(\"CR\")\n",
    "\n",
    "plt.show()"
   ]
  },
  {
   "cell_type": "code",
   "execution_count": 190,
   "id": "d6fa0124",
   "metadata": {},
   "outputs": [
    {
     "data": {
      "text/html": [
       "<div>\n",
       "<style scoped>\n",
       "    .dataframe tbody tr th:only-of-type {\n",
       "        vertical-align: middle;\n",
       "    }\n",
       "\n",
       "    .dataframe tbody tr th {\n",
       "        vertical-align: top;\n",
       "    }\n",
       "\n",
       "    .dataframe thead th {\n",
       "        text-align: right;\n",
       "    }\n",
       "</style>\n",
       "<table border=\"1\" class=\"dataframe\">\n",
       "  <thead>\n",
       "    <tr style=\"text-align: right;\">\n",
       "      <th></th>\n",
       "      <th>user_id</th>\n",
       "      <th>timestamp</th>\n",
       "      <th>test_group</th>\n",
       "      <th>conversion</th>\n",
       "      <th>user_dupl</th>\n",
       "    </tr>\n",
       "  </thead>\n",
       "  <tbody>\n",
       "    <tr>\n",
       "      <th>3065</th>\n",
       "      <td>46c4595c-7381-4735-9557-eefe48f16348</td>\n",
       "      <td>2023-07-03 01:42:34.033708</td>\n",
       "      <td>Test group</td>\n",
       "      <td>0</td>\n",
       "      <td>False</td>\n",
       "    </tr>\n",
       "    <tr>\n",
       "      <th>6667</th>\n",
       "      <td>974b78bf-8483-4f6a-8a8b-95f9bce0226d</td>\n",
       "      <td>2023-07-03 01:46:14.688840</td>\n",
       "      <td>Control group</td>\n",
       "      <td>0</td>\n",
       "      <td>False</td>\n",
       "    </tr>\n",
       "    <tr>\n",
       "      <th>15979</th>\n",
       "      <td>5f142100-99a4-418b-aa9d-eea849efa926</td>\n",
       "      <td>2023-07-03 01:49:43.283638</td>\n",
       "      <td>Test group</td>\n",
       "      <td>0</td>\n",
       "      <td>False</td>\n",
       "    </tr>\n",
       "    <tr>\n",
       "      <th>714</th>\n",
       "      <td>f685ef7f-f5d3-4a7c-b4f2-706c8f5f128f</td>\n",
       "      <td>2023-07-03 01:49:54.067114</td>\n",
       "      <td>Control group</td>\n",
       "      <td>0</td>\n",
       "      <td>False</td>\n",
       "    </tr>\n",
       "    <tr>\n",
       "      <th>2391</th>\n",
       "      <td>706d58f2-2bce-4137-8aa8-20f32db23e45</td>\n",
       "      <td>2023-07-03 01:52:14.910970</td>\n",
       "      <td>Control group</td>\n",
       "      <td>0</td>\n",
       "      <td>False</td>\n",
       "    </tr>\n",
       "    <tr>\n",
       "      <th>...</th>\n",
       "      <td>...</td>\n",
       "      <td>...</td>\n",
       "      <td>...</td>\n",
       "      <td>...</td>\n",
       "      <td>...</td>\n",
       "    </tr>\n",
       "    <tr>\n",
       "      <th>3597</th>\n",
       "      <td>89d49fcc-afd1-4afb-ac0d-9a126fb42ea9</td>\n",
       "      <td>2023-07-25 01:32:16.247402</td>\n",
       "      <td>Test group</td>\n",
       "      <td>0</td>\n",
       "      <td>False</td>\n",
       "    </tr>\n",
       "    <tr>\n",
       "      <th>1497</th>\n",
       "      <td>7df2c3a5-2bd7-4b21-8917-9c8df7ddfd3a</td>\n",
       "      <td>2023-07-25 01:32:28.813474</td>\n",
       "      <td>Test group</td>\n",
       "      <td>0</td>\n",
       "      <td>False</td>\n",
       "    </tr>\n",
       "    <tr>\n",
       "      <th>7936</th>\n",
       "      <td>1855b5fa-213d-4dad-ac48-feacd99e1214</td>\n",
       "      <td>2023-07-25 01:33:59.165132</td>\n",
       "      <td>Test group</td>\n",
       "      <td>1</td>\n",
       "      <td>False</td>\n",
       "    </tr>\n",
       "    <tr>\n",
       "      <th>8825</th>\n",
       "      <td>476663be-ceb3-4783-b328-50e6b8c4256b</td>\n",
       "      <td>2023-07-25 01:35:59.130658</td>\n",
       "      <td>Test group</td>\n",
       "      <td>1</td>\n",
       "      <td>False</td>\n",
       "    </tr>\n",
       "    <tr>\n",
       "      <th>9140</th>\n",
       "      <td>9e0c3f9c-3779-40f6-8e76-ea43d86aaf59</td>\n",
       "      <td>2023-07-25 01:41:19.152664</td>\n",
       "      <td>Control group</td>\n",
       "      <td>0</td>\n",
       "      <td>False</td>\n",
       "    </tr>\n",
       "  </tbody>\n",
       "</table>\n",
       "<p>19998 rows × 5 columns</p>\n",
       "</div>"
      ],
      "text/plain": [
       "                                    user_id                  timestamp     test_group  conversion  user_dupl\n",
       "3065   46c4595c-7381-4735-9557-eefe48f16348 2023-07-03 01:42:34.033708     Test group           0      False\n",
       "6667   974b78bf-8483-4f6a-8a8b-95f9bce0226d 2023-07-03 01:46:14.688840  Control group           0      False\n",
       "15979  5f142100-99a4-418b-aa9d-eea849efa926 2023-07-03 01:49:43.283638     Test group           0      False\n",
       "714    f685ef7f-f5d3-4a7c-b4f2-706c8f5f128f 2023-07-03 01:49:54.067114  Control group           0      False\n",
       "2391   706d58f2-2bce-4137-8aa8-20f32db23e45 2023-07-03 01:52:14.910970  Control group           0      False\n",
       "...                                     ...                        ...            ...         ...        ...\n",
       "3597   89d49fcc-afd1-4afb-ac0d-9a126fb42ea9 2023-07-25 01:32:16.247402     Test group           0      False\n",
       "1497   7df2c3a5-2bd7-4b21-8917-9c8df7ddfd3a 2023-07-25 01:32:28.813474     Test group           0      False\n",
       "7936   1855b5fa-213d-4dad-ac48-feacd99e1214 2023-07-25 01:33:59.165132     Test group           1      False\n",
       "8825   476663be-ceb3-4783-b328-50e6b8c4256b 2023-07-25 01:35:59.130658     Test group           1      False\n",
       "9140   9e0c3f9c-3779-40f6-8e76-ea43d86aaf59 2023-07-25 01:41:19.152664  Control group           0      False\n",
       "\n",
       "[19998 rows x 5 columns]"
      ]
     },
     "execution_count": 190,
     "metadata": {},
     "output_type": "execute_result"
    }
   ],
   "source": [
    "df_sorted = df.sort_values('timestamp')\n",
    "df_sorted"
   ]
  },
  {
   "cell_type": "markdown",
   "id": "98c6d5744e1947ca",
   "metadata": {},
   "source": [
    "## Побудуй графік, що відображатиме зміну конверсії в часі. \n",
    "І не забувай врахувати, що на цей раз в нас дійсно є дані про час здійснення івенту."
   ]
  },
  {
   "cell_type": "code",
   "execution_count": null,
   "id": "23e496595a28fd",
   "metadata": {
    "ExecuteTime": {
     "end_time": "2024-02-14T01:06:41.884085400Z",
     "start_time": "2024-02-14T01:06:41.813529600Z"
    }
   },
   "outputs": [],
   "source": [
    "start_a\n",
    "end_a\n",
    "date=pd.date_range(start_a,end_a,freq='D' )\n",
    "l=len(date)\n",
    "l"
   ]
  },
  {
   "cell_type": "code",
   "execution_count": 191,
   "id": "2758bb5b",
   "metadata": {},
   "outputs": [
    {
     "data": {
      "image/png": "[encoded data removed]",
      "text/plain": [
       "<Figure size 1000x600 with 1 Axes>"
      ]
     },
     "metadata": {},
     "output_type": "display_data"
    }
   ],
   "source": [
    "import matplotlib.pyplot as plt\n",
    "import seaborn as sns\n",
    "\n",
    "df_sorted = df.sort_values('timestamp')\n",
    "\n",
    "# Рахуємо кумулятивне середнє - це і є зміна конверсії з плином часу\n",
    "cumulative_metric_a = df_sorted[df_sorted['test_group'] == 'Control group']['conversion'].expanding().mean().reset_index(drop=True)\n",
    "cumulative_metric_b = df_sorted[df_sorted['test_group'] == 'Test group']['conversion'].expanding().mean().reset_index(drop=True)\n",
    "\n",
    "plt.figure(figsize=(10, 6))\n",
    "plt.plot(cumulative_metric_a, label='Control group')\n",
    "plt.plot(cumulative_metric_b, label='Test group')\n",
    "\n",
    "plt.title('Cumulative Сonversion Rate Comparison')\n",
    "plt.xlabel('Time')\n",
    "plt.ylabel('Cumulative Сonversion Rate')\n",
    "\n",
    "plt.legend()\n",
    "plt.show()"
   ]
  },
  {
   "cell_type": "code",
   "execution_count": null,
   "id": "162a392a45c5932d",
   "metadata": {},
   "outputs": [],
   "source": []
  }
 ],
 "metadata": {
  "celltoolbar": "Slideshow",
  "kernelspec": {
   "display_name": "Python 3 (ipykernel)",
   "language": "python",
   "name": "python3"
  },
  "language_info": {
   "codemirror_mode": {
    "name": "ipython",
    "version": 3
   },
   "file_extension": ".py",
   "mimetype": "text/x-python",
   "name": "python",
   "nbconvert_exporter": "python",
   "pygments_lexer": "ipython3",
   "version": "3.11.5"
  }
 },
 "nbformat": 4,
 "nbformat_minor": 5
}
